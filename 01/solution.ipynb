{
 "cells": [
  {
   "cell_type": "code",
   "execution_count": 144,
   "metadata": {},
   "outputs": [],
   "source": [
    "import numpy as np"
   ]
  },
  {
   "cell_type": "code",
   "execution_count": 145,
   "metadata": {},
   "outputs": [],
   "source": [
    "class Item:\n",
    "    def __init__(self, price, weight):\n",
    "        self.price = price\n",
    "        self.weight = weight"
   ]
  },
  {
   "cell_type": "code",
   "execution_count": 146,
   "metadata": {},
   "outputs": [],
   "source": [
    "class Individual:\n",
    "    def __init__(self, item_count):\n",
    "        \n",
    "        # array([0, 1, 0, 1, 1])\n",
    "        self.mask = np.random.choice([0, 1], size=(item_count,))"
   ]
  },
  {
   "cell_type": "code",
   "execution_count": 147,
   "metadata": {},
   "outputs": [
    {
     "name": "stdout",
     "output_type": "stream",
     "text": [
      "Number of items is:  10\n",
      "Capacity:            269\n",
      "55 95\n",
      "10 4\n",
      "47 60\n",
      "5 32\n",
      "4 23\n",
      "50 72\n",
      "8 80\n",
      "61 62\n",
      "85 65\n",
      "87 46\n"
     ]
    }
   ],
   "source": [
    "file_path = \"./debug_10.txt\"\n",
    "\n",
    "with open(file_path, \"r\") as file:\n",
    "    content = file.readlines()\n",
    "\n",
    "\n",
    "first_line = content[0].strip().split()\n",
    "\n",
    "number_of_items = int(first_line[0])\n",
    "capacity = int(first_line[1])\n",
    "\n",
    "items = []\n",
    "\n",
    "print(\"Number of items is: \", number_of_items)\n",
    "print(\"Capacity:           \", capacity)\n",
    "\n",
    "for line in content[1:]:\n",
    "    numbers = line.strip().split()\n",
    "    item_cost, item_weight = map(int, numbers)\n",
    "    items.append(Item(item_cost, item_weight))\n",
    "\n",
    "assert len(items) == number_of_items\n",
    "\n",
    "for item in items:\n",
    "    print(item.price, item.weight)"
   ]
  },
  {
   "cell_type": "code",
   "execution_count": 149,
   "metadata": {},
   "outputs": [
    {
     "data": {
      "text/plain": [
       "(array([1, 1, 1, 0, 0, 0, 0, 0, 0, 0]), array([1, 0, 1, 0, 1, 0, 1, 0, 1, 1]))"
      ]
     },
     "execution_count": 149,
     "metadata": {},
     "output_type": "execute_result"
    }
   ],
   "source": [
    "\n",
    "\n",
    "number_of_iterations = 100\n",
    "size_of_population = 10\n",
    "\n",
    "# Generate random population\n",
    "population = [Individual(number_of_items) for _ in range(size_of_population)]\n",
    "\n",
    "for i in range(number_of_iterations):\n",
    "    pass\n",
    "\n",
    "population[0].mask, population[1].mask"
   ]
  }
 ],
 "metadata": {
  "kernelspec": {
   "display_name": "Python 3",
   "language": "python",
   "name": "python3"
  },
  "language_info": {
   "codemirror_mode": {
    "name": "ipython",
    "version": 3
   },
   "file_extension": ".py",
   "mimetype": "text/x-python",
   "name": "python",
   "nbconvert_exporter": "python",
   "pygments_lexer": "ipython3",
   "version": "3.10.12"
  }
 },
 "nbformat": 4,
 "nbformat_minor": 2
}
