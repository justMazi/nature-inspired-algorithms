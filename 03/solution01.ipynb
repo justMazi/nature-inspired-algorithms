{
 "cells": [
  {
   "cell_type": "code",
   "execution_count": 2,
   "metadata": {},
   "outputs": [],
   "source": [
    "class Node:\n",
    "    def __init__(self, node_id, node_type, cx, cy):\n",
    "        self.node_id = node_id\n",
    "        self.node_type = node_type\n",
    "        self.cx = cx\n",
    "        self.cy = cy"
   ]
  },
  {
   "cell_type": "code",
   "execution_count": 3,
   "metadata": {},
   "outputs": [
    {
     "name": "stdout",
     "output_type": "stream",
     "text": [
      "Dataset: Augerat 1995 — Set A\n",
      "Name: A-n32-k05\n",
      "Nodes:\n",
      "Node 1: Type 0, cx 82.0, cy 76.0\n",
      "Node 2: Type 1, cx 96.0, cy 44.0\n",
      "Node 3: Type 1, cx 50.0, cy 5.0\n",
      "Node 4: Type 1, cx 49.0, cy 8.0\n",
      "Node 5: Type 1, cx 13.0, cy 7.0\n",
      "Node 6: Type 1, cx 29.0, cy 89.0\n",
      "Node 7: Type 1, cx 58.0, cy 30.0\n",
      "Node 8: Type 1, cx 84.0, cy 39.0\n",
      "Node 9: Type 1, cx 14.0, cy 24.0\n",
      "Node 10: Type 1, cx 2.0, cy 39.0\n",
      "Node 11: Type 1, cx 3.0, cy 82.0\n",
      "Node 12: Type 1, cx 5.0, cy 10.0\n",
      "Node 13: Type 1, cx 98.0, cy 52.0\n",
      "Node 14: Type 1, cx 84.0, cy 25.0\n",
      "Node 15: Type 1, cx 61.0, cy 59.0\n",
      "Node 16: Type 1, cx 1.0, cy 65.0\n",
      "Node 17: Type 1, cx 88.0, cy 51.0\n",
      "Node 18: Type 1, cx 91.0, cy 2.0\n",
      "Node 19: Type 1, cx 19.0, cy 32.0\n",
      "Node 20: Type 1, cx 93.0, cy 3.0\n",
      "Node 21: Type 1, cx 50.0, cy 93.0\n",
      "Node 22: Type 1, cx 98.0, cy 14.0\n",
      "Node 23: Type 1, cx 5.0, cy 42.0\n",
      "Node 24: Type 1, cx 42.0, cy 9.0\n",
      "Node 25: Type 1, cx 61.0, cy 62.0\n",
      "Node 26: Type 1, cx 9.0, cy 97.0\n",
      "Node 27: Type 1, cx 80.0, cy 55.0\n",
      "Node 28: Type 1, cx 57.0, cy 69.0\n",
      "Node 29: Type 1, cx 23.0, cy 15.0\n",
      "Node 30: Type 1, cx 20.0, cy 70.0\n",
      "Node 31: Type 1, cx 85.0, cy 60.0\n",
      "Node 32: Type 1, cx 98.0, cy 5.0\n"
     ]
    }
   ],
   "source": [
    "import xml.etree.ElementTree as ET\n",
    "\n",
    "# Load the XML file\n",
    "tree = ET.parse('./data_32.xml')\n",
    "root = tree.getroot()\n",
    "\n",
    "# Extract information\n",
    "dataset = root.find('./info/dataset').text\n",
    "name = root.find('./info/name').text\n",
    "\n",
    "print(\"Dataset:\", dataset)\n",
    "print(\"Name:\", name)\n",
    "\n",
    "print(\"Nodes:\")\n",
    "nodes = []\n",
    "for node in root.findall('./network/nodes/node'):\n",
    "    node_id = node.attrib['id']\n",
    "    node_type = node.attrib['type']\n",
    "    cx = node.find('cx').text\n",
    "    cy = node.find('cy').text\n",
    "    nodes.append(Node(node_id, node_type, cx, cy))\n",
    "    print(f\"Node {node_id}: Type {node_type}, cx {cx}, cy {cy}\")\n"
   ]
  },
  {
   "cell_type": "code",
   "execution_count": 4,
   "metadata": {},
   "outputs": [
    {
     "data": {
      "text/plain": [
       "[<__main__.Node at 0x2333d82ca70>,\n",
       " <__main__.Node at 0x2333d82e390>,\n",
       " <__main__.Node at 0x2333d82c650>,\n",
       " <__main__.Node at 0x2333d82de80>,\n",
       " <__main__.Node at 0x2333d82cbf0>,\n",
       " <__main__.Node at 0x2333d82e3f0>,\n",
       " <__main__.Node at 0x2333d82e060>,\n",
       " <__main__.Node at 0x2333d82e360>,\n",
       " <__main__.Node at 0x2333d82cb00>,\n",
       " <__main__.Node at 0x2333d82ce90>,\n",
       " <__main__.Node at 0x2333d82c6b0>,\n",
       " <__main__.Node at 0x2333d82c7a0>,\n",
       " <__main__.Node at 0x2333d82dc40>,\n",
       " <__main__.Node at 0x2333d82c4d0>,\n",
       " <__main__.Node at 0x2333d82e120>,\n",
       " <__main__.Node at 0x2333d82e5a0>,\n",
       " <__main__.Node at 0x2333d82c1d0>,\n",
       " <__main__.Node at 0x2333d82c710>,\n",
       " <__main__.Node at 0x2333d82df70>,\n",
       " <__main__.Node at 0x2333d82e300>,\n",
       " <__main__.Node at 0x2333d82c860>,\n",
       " <__main__.Node at 0x2333d82e1b0>,\n",
       " <__main__.Node at 0x2333d82c560>,\n",
       " <__main__.Node at 0x2333d82f320>,\n",
       " <__main__.Node at 0x2333d82f470>,\n",
       " <__main__.Node at 0x2333d82f5f0>,\n",
       " <__main__.Node at 0x2333d82f6e0>,\n",
       " <__main__.Node at 0x2333d82f620>,\n",
       " <__main__.Node at 0x2333d82f2f0>,\n",
       " <__main__.Node at 0x2333d82f7a0>,\n",
       " <__main__.Node at 0x2333d82eba0>,\n",
       " <__main__.Node at 0x2333d82f6b0>]"
      ]
     },
     "execution_count": 4,
     "metadata": {},
     "output_type": "execute_result"
    }
   ],
   "source": [
    "nodes"
   ]
  }
 ],
 "metadata": {
  "kernelspec": {
   "display_name": "Python 3",
   "language": "python",
   "name": "python3"
  },
  "language_info": {
   "codemirror_mode": {
    "name": "ipython",
    "version": 3
   },
   "file_extension": ".py",
   "mimetype": "text/x-python",
   "name": "python",
   "nbconvert_exporter": "python",
   "pygments_lexer": "ipython3",
   "version": "3.12.3"
  }
 },
 "nbformat": 4,
 "nbformat_minor": 2
}
